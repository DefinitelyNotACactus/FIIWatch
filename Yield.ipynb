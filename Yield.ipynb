{
 "cells": [
  {
   "cell_type": "code",
   "execution_count": 43,
   "id": "c64544a9",
   "metadata": {},
   "outputs": [],
   "source": [
    "import numpy as np\n",
    "import pandas as pd\n",
    "import requests\n",
    "import json\n",
    "\n",
    "from sklearn.linear_model import LinearRegression"
   ]
  },
  {
   "cell_type": "code",
   "execution_count": 25,
   "id": "905edb5a",
   "metadata": {},
   "outputs": [],
   "source": [
    "def add_row(df, category, ticker, value, ipca, cdi, ref):\n",
    "    df.loc[len(df)] = {'Ticker': ticker, 'Categoria': category, 'Valor': value, \n",
    "                       'IPCA': ipca, 'CDI': cdi, 'Ref': ref}\n",
    "    \n",
    "    return df"
   ]
  },
  {
   "cell_type": "code",
   "execution_count": 26,
   "id": "aa698614",
   "metadata": {},
   "outputs": [],
   "source": [
    "df = pd.DataFrame(columns=['Ticker', 'Categoria', 'Valor', 'IPCA', 'CDI', 'Ref'])\n",
    "\n",
    "df = add_row(df, 'Kinea', 'KNIP11', 92, 8.24, np.nan, '24/07/23')\n",
    "df = add_row(df, 'Kinea', 'KNIP11', 93, 8.12, np.nan, '24/07/23')\n",
    "\n",
    "df = add_row(df, 'Kinea', 'KNSC11', 86, 8.17, np.nan, '24/07/23')\n",
    "df = add_row(df, 'Kinea', 'KNSC11', 87, 7.91, np.nan, '24/07/23')\n",
    "\n",
    "df = add_row(df, 'Kinea', 'KNHY11', 98, 10.40, np.nan, '24/07/23')\n",
    "df = add_row(df, 'Kinea', 'KNHY11', 99, 10.12, np.nan, '24/07/23')\n",
    "\n",
    "df = add_row(df, 'Kinea', 'KCRE11', 95, 8.44, np.nan, '24/07/23')\n",
    "df = add_row(df, 'Kinea', 'KCRE11', 96, 8.28, np.nan, '24/07/23')\n",
    "\n",
    "df = add_row(df, 'Kinea', 'KNCR11', 96, np.nan, 2.83, '24/07/23')\n",
    "df = add_row(df, 'Kinea', 'KNCR11', 97, np.nan, 2.57, '24/07/23')\n",
    "\n",
    "df = add_row(df, 'Kinea', 'KNCA11', 105, np.nan, 2.76, '24/07/23')\n",
    "df = add_row(df, 'Kinea', 'KNCA11', 106, np.nan, 2.43, '24/07/23')"
   ]
  },
  {
   "cell_type": "code",
   "execution_count": 27,
   "id": "2296b142",
   "metadata": {},
   "outputs": [
    {
     "data": {
      "text/html": [
       "<div>\n",
       "<style scoped>\n",
       "    .dataframe tbody tr th:only-of-type {\n",
       "        vertical-align: middle;\n",
       "    }\n",
       "\n",
       "    .dataframe tbody tr th {\n",
       "        vertical-align: top;\n",
       "    }\n",
       "\n",
       "    .dataframe thead th {\n",
       "        text-align: right;\n",
       "    }\n",
       "</style>\n",
       "<table border=\"1\" class=\"dataframe\">\n",
       "  <thead>\n",
       "    <tr style=\"text-align: right;\">\n",
       "      <th></th>\n",
       "      <th>Ticker</th>\n",
       "      <th>Categoria</th>\n",
       "      <th>Valor</th>\n",
       "      <th>IPCA</th>\n",
       "      <th>CDI</th>\n",
       "      <th>Ref</th>\n",
       "    </tr>\n",
       "  </thead>\n",
       "  <tbody>\n",
       "    <tr>\n",
       "      <th>0</th>\n",
       "      <td>KNIP11</td>\n",
       "      <td>Kinea</td>\n",
       "      <td>92</td>\n",
       "      <td>8.24</td>\n",
       "      <td>NaN</td>\n",
       "      <td>24/07/23</td>\n",
       "    </tr>\n",
       "    <tr>\n",
       "      <th>1</th>\n",
       "      <td>KNIP11</td>\n",
       "      <td>Kinea</td>\n",
       "      <td>93</td>\n",
       "      <td>8.12</td>\n",
       "      <td>NaN</td>\n",
       "      <td>24/07/23</td>\n",
       "    </tr>\n",
       "    <tr>\n",
       "      <th>2</th>\n",
       "      <td>KNSC11</td>\n",
       "      <td>Kinea</td>\n",
       "      <td>86</td>\n",
       "      <td>8.17</td>\n",
       "      <td>NaN</td>\n",
       "      <td>24/07/23</td>\n",
       "    </tr>\n",
       "    <tr>\n",
       "      <th>3</th>\n",
       "      <td>KNSC11</td>\n",
       "      <td>Kinea</td>\n",
       "      <td>87</td>\n",
       "      <td>7.91</td>\n",
       "      <td>NaN</td>\n",
       "      <td>24/07/23</td>\n",
       "    </tr>\n",
       "    <tr>\n",
       "      <th>4</th>\n",
       "      <td>KNHY11</td>\n",
       "      <td>Kinea</td>\n",
       "      <td>98</td>\n",
       "      <td>10.40</td>\n",
       "      <td>NaN</td>\n",
       "      <td>24/07/23</td>\n",
       "    </tr>\n",
       "    <tr>\n",
       "      <th>5</th>\n",
       "      <td>KNHY11</td>\n",
       "      <td>Kinea</td>\n",
       "      <td>99</td>\n",
       "      <td>10.12</td>\n",
       "      <td>NaN</td>\n",
       "      <td>24/07/23</td>\n",
       "    </tr>\n",
       "    <tr>\n",
       "      <th>6</th>\n",
       "      <td>KCRE11</td>\n",
       "      <td>Kinea</td>\n",
       "      <td>95</td>\n",
       "      <td>8.44</td>\n",
       "      <td>NaN</td>\n",
       "      <td>24/07/23</td>\n",
       "    </tr>\n",
       "    <tr>\n",
       "      <th>7</th>\n",
       "      <td>KCRE11</td>\n",
       "      <td>Kinea</td>\n",
       "      <td>96</td>\n",
       "      <td>8.28</td>\n",
       "      <td>NaN</td>\n",
       "      <td>24/07/23</td>\n",
       "    </tr>\n",
       "    <tr>\n",
       "      <th>8</th>\n",
       "      <td>KNCR11</td>\n",
       "      <td>Kinea</td>\n",
       "      <td>96</td>\n",
       "      <td>NaN</td>\n",
       "      <td>2.83</td>\n",
       "      <td>24/07/23</td>\n",
       "    </tr>\n",
       "    <tr>\n",
       "      <th>9</th>\n",
       "      <td>KNCR11</td>\n",
       "      <td>Kinea</td>\n",
       "      <td>97</td>\n",
       "      <td>NaN</td>\n",
       "      <td>2.57</td>\n",
       "      <td>24/07/23</td>\n",
       "    </tr>\n",
       "    <tr>\n",
       "      <th>10</th>\n",
       "      <td>KNCA11</td>\n",
       "      <td>Kinea</td>\n",
       "      <td>105</td>\n",
       "      <td>NaN</td>\n",
       "      <td>2.76</td>\n",
       "      <td>24/07/23</td>\n",
       "    </tr>\n",
       "    <tr>\n",
       "      <th>11</th>\n",
       "      <td>KNCA11</td>\n",
       "      <td>Kinea</td>\n",
       "      <td>106</td>\n",
       "      <td>NaN</td>\n",
       "      <td>2.43</td>\n",
       "      <td>24/07/23</td>\n",
       "    </tr>\n",
       "  </tbody>\n",
       "</table>\n",
       "</div>"
      ],
      "text/plain": [
       "    Ticker Categoria  Valor   IPCA   CDI       Ref\n",
       "0   KNIP11     Kinea     92   8.24   NaN  24/07/23\n",
       "1   KNIP11     Kinea     93   8.12   NaN  24/07/23\n",
       "2   KNSC11     Kinea     86   8.17   NaN  24/07/23\n",
       "3   KNSC11     Kinea     87   7.91   NaN  24/07/23\n",
       "4   KNHY11     Kinea     98  10.40   NaN  24/07/23\n",
       "5   KNHY11     Kinea     99  10.12   NaN  24/07/23\n",
       "6   KCRE11     Kinea     95   8.44   NaN  24/07/23\n",
       "7   KCRE11     Kinea     96   8.28   NaN  24/07/23\n",
       "8   KNCR11     Kinea     96    NaN  2.83  24/07/23\n",
       "9   KNCR11     Kinea     97    NaN  2.57  24/07/23\n",
       "10  KNCA11     Kinea    105    NaN  2.76  24/07/23\n",
       "11  KNCA11     Kinea    106    NaN  2.43  24/07/23"
      ]
     },
     "execution_count": 27,
     "metadata": {},
     "output_type": "execute_result"
    }
   ],
   "source": [
    "df"
   ]
  },
  {
   "cell_type": "code",
   "execution_count": 31,
   "id": "54a79a4b",
   "metadata": {},
   "outputs": [],
   "source": [
    "regr = {ticker: LinearRegression() for ticker in df['Ticker'].unique()}"
   ]
  },
  {
   "cell_type": "code",
   "execution_count": 35,
   "id": "49efe8f5",
   "metadata": {},
   "outputs": [
    {
     "data": {
      "text/plain": [
       "array([2.76, 2.43])"
      ]
     },
     "execution_count": 35,
     "metadata": {},
     "output_type": "execute_result"
    }
   ],
   "source": [
    "df.loc[df['Ticker'] == ticker, 'CDI'].values"
   ]
  },
  {
   "cell_type": "code",
   "execution_count": 40,
   "id": "8d94636c",
   "metadata": {},
   "outputs": [],
   "source": [
    "for ticker in df['Ticker'].unique():\n",
    "    if df.loc[df['Ticker'] == ticker, 'CDI'].isna().any():\n",
    "        regr[ticker].fit(df.loc[df['Ticker'] == ticker, 'Valor'].values.reshape(-1, 1), \n",
    "                 df.loc[df['Ticker'] == ticker, 'IPCA'].values)\n",
    "    else:\n",
    "        regr[ticker].fit(df.loc[df['Ticker'] == ticker, 'Valor'].values.reshape(-1, 1), \n",
    "                 df.loc[df['Ticker'] == ticker, 'CDI'].values)"
   ]
  },
  {
   "cell_type": "code",
   "execution_count": 70,
   "id": "84b1f7fe",
   "metadata": {},
   "outputs": [
    {
     "name": "stdout",
     "output_type": "stream",
     "text": [
      "KNIP11 Preço Atual:  92.86 Change: +0.47 Carteira: IPCA +  8.14\n",
      "KNSC11 Preço Atual:  87.75 Change: -0.15 Carteira: IPCA +  7.71\n",
      "KNHY11 Preço Atual:  99.97 Change: +1.18 Carteira: IPCA +  9.85\n",
      "KCRE11 Preço Atual:  96.01 Change: -0.15 Carteira: IPCA +  8.28\n",
      "KNCR11 Preço Atual:  98.10 Change: +0.25 Carteira: CDI  +  2.28\n",
      "KNCA11 Preço Atual: 106.61 Change: -0.29 Carteira: CDI  +  2.23\n"
     ]
    }
   ],
   "source": [
    "for ticker in df['Ticker'].unique():\n",
    "    response = requests.get(f'https://brapi.dev/api/quote/{ticker}?range=1d&interval=1d&fundamental=false&dividends=false')\n",
    "    result = json.loads(response.text)\n",
    "    price = result['results'][0]['regularMarketPrice']\n",
    "    previousClose = result['results'][0]['regularMarketPreviousClose']\n",
    "    \n",
    "    index = 'CDI '\n",
    "    if df.loc[df['Ticker'] == ticker, 'CDI'].isna().any(): index = 'IPCA'\n",
    "    \n",
    "    print(f'{ticker} Preço Atual: {price:6.2f} Change: {(price / previousClose - 1) * 100:+4.2f} Carteira: {index} + {regr[ticker].predict(np.array(price).reshape(-1, 1))[0] :5.2f}')"
   ]
  }
 ],
 "metadata": {
  "kernelspec": {
   "display_name": "Python 3 (ipykernel)",
   "language": "python",
   "name": "python3"
  },
  "language_info": {
   "codemirror_mode": {
    "name": "ipython",
    "version": 3
   },
   "file_extension": ".py",
   "mimetype": "text/x-python",
   "name": "python",
   "nbconvert_exporter": "python",
   "pygments_lexer": "ipython3",
   "version": "3.9.6"
  }
 },
 "nbformat": 4,
 "nbformat_minor": 5
}
